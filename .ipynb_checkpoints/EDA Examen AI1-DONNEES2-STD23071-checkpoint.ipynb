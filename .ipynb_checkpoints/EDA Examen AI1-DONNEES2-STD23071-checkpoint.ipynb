{
 "cells": [
  {
   "cell_type": "markdown",
   "id": "28990f64-e1a1-4ee9-800f-bfa164851a3c",
   "metadata": {},
   "source": [
    "Importation des dependances à utiliser."
   ]
  },
  {
   "cell_type": "code",
   "execution_count": 1,
   "id": "178f4721-bd75-4ada-861b-d75010eac3ba",
   "metadata": {},
   "outputs": [],
   "source": [
    "import pandas as pd\n",
    "import matplotlib.pyplot as plt\n",
    "import seaborn as sns\n",
    "import os"
   ]
  },
  {
   "cell_type": "markdown",
   "id": "e9a1df77-effc-4fd9-8124-416a792c015d",
   "metadata": {},
   "source": [
    "Definition Des chemins"
   ]
  },
  {
   "cell_type": "code",
   "execution_count": 2,
   "id": "dbb45875-6200-4f7a-ae09-ff1e82fc2fdd",
   "metadata": {},
   "outputs": [],
   "source": [
    "ROOT_DIR = os.path.abspath(os.path.join(os.getcwd(), \"..\"))\n",
    "forecast_path = os.path.join(ROOT_DIR,\"examen_weather_pipeline\" \"data\", \"processed\", \"forecast_meteo_global.csv\")\n",
    "score_path = os.path.join(ROOT_DIR,\"examen_weather_pipeline\", \"data\", \"processed\", \"scores_meteo_global.csv\")\n",
    "historical_dir = os.path.join(ROOT_DIR,\"examen_weather_pipeline\", \"data\", \"raw\", \"historical_meteo\")\n"
   ]
  },
  {
   "cell_type": "markdown",
   "id": "77341159-9f77-45be-a8b8-9d1f67f15ce8",
   "metadata": {},
   "source": [
    "Chargement des données."
   ]
  },
  {
   "cell_type": "code",
   "execution_count": 3,
   "id": "462deb5e-eb58-43e6-96c7-294462817057",
   "metadata": {},
   "outputs": [
    {
     "ename": "FileNotFoundError",
     "evalue": "[Errno 2] No such file or directory: '/home/veloniaina/airflow/dags/data/raw/historical_meteo'",
     "output_type": "error",
     "traceback": [
      "\u001b[31m---------------------------------------------------------------------------\u001b[39m",
      "\u001b[31mFileNotFoundError\u001b[39m                         Traceback (most recent call last)",
      "\u001b[36mCell\u001b[39m\u001b[36m \u001b[39m\u001b[32mIn[3]\u001b[39m\u001b[32m, line 3\u001b[39m\n\u001b[32m      1\u001b[39m historical_dfs = []\n\u001b[32m----> \u001b[39m\u001b[32m3\u001b[39m \u001b[38;5;28;01mfor\u001b[39;00m file \u001b[38;5;129;01min\u001b[39;00m \u001b[43mos\u001b[49m\u001b[43m.\u001b[49m\u001b[43mlistdir\u001b[49m\u001b[43m(\u001b[49m\u001b[43mhistorical_dir\u001b[49m\u001b[43m)\u001b[49m:\n\u001b[32m      4\u001b[39m     \u001b[38;5;28;01mif\u001b[39;00m file.endswith(\u001b[33m\"\u001b[39m\u001b[33m.csv\u001b[39m\u001b[33m\"\u001b[39m):\n\u001b[32m      5\u001b[39m         city = file.replace(\u001b[33m\"\u001b[39m\u001b[33mhistorical_\u001b[39m\u001b[33m\"\u001b[39m, \u001b[33m\"\u001b[39m\u001b[33m\"\u001b[39m).replace(\u001b[33m\"\u001b[39m\u001b[33m.csv\u001b[39m\u001b[33m\"\u001b[39m, \u001b[33m\"\u001b[39m\u001b[33m\"\u001b[39m)\n",
      "\u001b[31mFileNotFoundError\u001b[39m: [Errno 2] No such file or directory: '/home/veloniaina/airflow/dags/data/raw/historical_meteo'"
     ]
    }
   ],
   "source": [
    "historical_dfs = []\n",
    "\n",
    "for file in os.listdir(historical_dir):\n",
    "    if file.endswith(\".csv\"):\n",
    "        city = file.replace(\"historical_\", \"\").replace(\".csv\", \"\")\n",
    "        path = os.path.join(historical_dir, file)\n",
    "        df = pd.read_csv(path)\n",
    "        df[\"ville\"] = city\n",
    "        historical_dfs.append(df)\n",
    "\n",
    "historical_df = pd.concat(historical_dfs, ignore_index=True)\n",
    "\n",
    "# Renommer les colonnes\n",
    "historical_df.rename(columns={\n",
    "    \"time\": \"date\",\n",
    "    \"temperature_2m_max\": \"temp\",\n",
    "    \"precipitation_sum\": \"rain\",\n",
    "    \"windspeed_10m_max\": \"wind_speed\"\n",
    "}, inplace=True)\n",
    "\n",
    "# Conversion de date\n",
    "historical_df[\"date\"] = pd.to_datetime(historical_df[\"date\"])"
   ]
  },
  {
   "cell_type": "markdown",
   "id": "7ca31ac2-7a4d-46ad-82ad-b66db3313fbc",
   "metadata": {},
   "source": [
    "Aperçu General"
   ]
  },
  {
   "cell_type": "code",
   "execution_count": null,
   "id": "2265026f-4692-4494-902a-b99930ddb403",
   "metadata": {},
   "outputs": [],
   "source": [
    "display(historical_df.head())\n",
    "print(\"Villes :\", historical_df[\"ville\"].unique())\n",
    "display(historical_df.describe())"
   ]
  }
 ],
 "metadata": {
  "kernelspec": {
   "display_name": "Python (airflow_env)",
   "language": "python",
   "name": "airflow_env"
  },
  "language_info": {
   "codemirror_mode": {
    "name": "ipython",
    "version": 3
   },
   "file_extension": ".py",
   "mimetype": "text/x-python",
   "name": "python",
   "nbconvert_exporter": "python",
   "pygments_lexer": "ipython3",
   "version": "3.12.3"
  }
 },
 "nbformat": 4,
 "nbformat_minor": 5
}
